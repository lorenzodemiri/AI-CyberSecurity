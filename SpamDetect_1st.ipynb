{
 "cells": [
  {
   "cell_type": "markdown",
   "metadata": {},
   "source": [
    "# Detecting spam with Perceptrons\n",
    "\n",
    "One of the first and successful applications of AI in the field of cybersecurity is Spam Detection, and one of the most famous is **SpamAssassin**\n",
    "\n",
    "The strategies that can be applied are different, but the most common and simpler one uses **Neural Networks (NNs)**\n",
    "in the most basic way wich is **Perceptrons**"
   ]
  },
  {
   "source": [
    "## NNs at the basics - **the Perceptron**\n",
    "The Perceptron is one the first successful implementations of neuron in the field of **AI**.\n",
    "\n",
    "Just like a neuron of human brain is characterized by a layered structure\n",
    "\n",
    "![neuron of a human brain](resources\\HumanNeuron.jpg)\n",
    "\n",
    "The artificial rapresentation of the neuron implemented thourgh the Perceptron model is structured in a such way to associate a given output value to one or more levels of input data:\n",
    "\n",
    "![AI neuron](resources\\AiNeuron.jpg)\n",
    "\n",
    "The mechanism that transform the input data into an output value is implemented by making use of appropriate weighing of the the values of an input, wich are summarized to an activate function wich, when exceeding a certain threshold,produces a value of output that is forwarded to the remaining components of the neural network.\n",
    "\n",
    "## We have to find the right weight!\n",
    "\n",
    "The difference between the stastical models and AI algorithms is that the algorithms implement an optimization strategy based on iteration, for each iteration, the algo tries to adjust the estimate of the values, giving to them a bigger or lower weight depending on the cost that function that we have to minimize. The scope of the algo is to find an optimal weight to estimate values in order to obtain rielable future predictions on unknown future data."
   ],
   "cell_type": "markdown",
   "metadata": {}
  },
  {
   "source": [
    "## How a Spam filter works\n",
    "Imagine that we are going to separete our emails by categorizing them based on the presence ro the absence of certain keywords that occurs in our emails witha certain frequency. To do this we can list on table all the incoming emails and after running the AI function giving them a tag to classify them by two paramenters **HAM** or **SPAM**.\n",
    "\n",
    "As we said we are going to count the occurence of certain keywords within the text of the email and we will assign a score to each individual message so we can classify all the incoming emails. \n",
    "\n",
    "We will identify a threshold value that allows us to separate smap messages. If the score exceeds the threshold value, the mail will be classified as SPAM if not as HAM.\n",
    "The threshold  value will be constantly updated to take into account the new series of spam emails that we will receive in future. "
   ],
   "cell_type": "markdown",
   "metadata": {}
  }
 ],
 "metadata": {
  "kernelspec": {
   "display_name": "Python 3",
   "language": "python",
   "name": "python3"
  },
  "language_info": {
   "codemirror_mode": {
    "name": "ipython",
    "version": 3
   },
   "file_extension": ".py",
   "mimetype": "text/x-python",
   "name": "python",
   "nbconvert_exporter": "python",
   "pygments_lexer": "ipython3",
   "version": "3.8.5-final"
  },
  "widgets": {
   "state": {},
   "version": "1.1.2"
  }
 },
 "nbformat": 4,
 "nbformat_minor": 1
}