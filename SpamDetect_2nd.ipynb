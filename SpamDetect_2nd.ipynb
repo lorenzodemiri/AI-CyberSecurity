{
 "metadata": {
  "language_info": {
   "codemirror_mode": {
    "name": "ipython",
    "version": 3
   },
   "file_extension": ".py",
   "mimetype": "text/x-python",
   "name": "python",
   "nbconvert_exporter": "python",
   "pygments_lexer": "ipython3",
   "version": 3
  },
  "orig_nbformat": 2
 },
 "nbformat": 4,
 "nbformat_minor": 2,
 "cells": [
  {
   "source": [
    "# Spam detection with SVMs\n",
    "\n",
    "SVMs are a type of **supervised** algorithms wich has the task to find the best hyperplane that best separet classes of data that can be represente in a  **multidimesional space**. In some cases we can have data that needs different hyperplanes to correctly separate the data from each other, in our case we have to choose an hyperplane that **optimizes the prefixed margin**, that rapresent the distance between the hyperplane and the data.\n",
    "\n",
    "The SVM can be considered as a better implementation of Perceptron. The key difference is that on the Perceptron we have tried to **minimize** classifications errors, in the SVM instead is to maximiza the margin, wich is the distance between the hyperplane and the *closest* training data to the hyperplane(know as **support vector**).\n",
    "\n",
    "## The optimization strategy of SVMs\n",
    "By choosing the **wider margins** correspond to fewer classifications errors, while with **narrower margins** we risk incurring the phenomenon known as **overfitting**(we will discuss it later)\n",
    "\n",
    "So now let's translate the SVM into mathematical terms, similar to what we done in the case of Perceptron, "
   ],
   "cell_type": "markdown",
   "metadata": {}
  }
 ]
}