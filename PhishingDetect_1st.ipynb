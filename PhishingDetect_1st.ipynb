{
 "metadata": {
  "language_info": {
   "codemirror_mode": {
    "name": "ipython",
    "version": 3
   },
   "file_extension": ".py",
   "mimetype": "text/x-python",
   "name": "python",
   "nbconvert_exporter": "python",
   "pygments_lexer": "ipython3",
   "version": "3.8.5-final"
  },
  "orig_nbformat": 2,
  "kernelspec": {
   "name": "python3",
   "display_name": "Python 3",
   "language": "python"
  }
 },
 "nbformat": 4,
 "nbformat_minor": 2,
 "cells": [
  {
   "source": [
    "# Phishing detection with logistic regression and decision trees\n",
    "\n",
    "Before introducing our new project let's have a look to the algorithms used for our software in more details.\n",
    "\n",
    "## Regression models\n",
    "\n",
    "Regression models are the most used of all the learnign algorithms. From the statistical analysis world, regression models have quicly spread in ML and in AI in general.The most known of the models is **Linear Regression** thanks to the simplicity of the implementation and that it can be applied in many cases like: (Estimate the house prices in relation to the variation of the interest rates)\n",
    "\n",
    "Another model, is the **Logistic Regression Model** useful in the most complex cases where the linear model can't fit the datasets.\n",
    "\n",
    "### Linear Regression\n",
    "\n",
    "Linear regression is characterized by the fact that the data is represented as sums of features, that gives us a straight line in the Cartesian Plane, described by the following formula.\n",
    "$$ y = wX + \\beta$$\n",
    "\n",
    "Here on the formula we have the y that rapresent the predicted values, which are the results of the linear combination ($X$) to wich a weight vector is applied ($w$), and then $\\beta$ wich stands for the default value when the other 2 are 0. This model can be extendet can to n-dimension (for more features), at this point the formula can generalized and instead of a line we define a hyperplane that divede our hyperspace to classify our data. \n",
    "\n",
    "Let's have a look on how to implement Linear Regression\n",
    "\n",
    "## Linear regression with scikit-learn\n",
    "To check how this model works and how to implement in details have a look to the documentation [Here](https://scikit-learn.org/stable/modules/generated/sklearn.linear_model.LinearRegression.html?highlight=linear%20regression#sklearn.linear_model.LinearRegression)\n"
   ],
   "cell_type": "markdown",
   "metadata": {}
  },
  {
   "cell_type": "code",
   "execution_count": null,
   "metadata": {},
   "outputs": [],
   "source": [
    "import pandas as pd\n",
    "import numpy as np \n",
    "#Read our dataset\n",
    "df = pd.read_csv('./resources/smsSpamPerceptron.csv')\n",
    "#Define our X and Y\n",
    "X = df.iloc[:, [2, 3]].values\n",
    "y = df.iloc[:, 1].values\n",
    "y = np.where(y == 'spam', -1, 1)\n",
    "#implement the linear regression model from scikit-learn\n",
    "from sklearn.linear_model import LinearRegression\n",
    "linear_regression = LinearRegression()\n",
    "linear_regression.fit(X, y)\n",
    "print(linear_regression.score(X,y))"
   ]
  },
  {
   "source": [],
   "cell_type": "markdown",
   "metadata": {}
  },
  {
   "source": [
    "## Pros and cons of Linear regression\n",
    "\n",
    "The simplicity of the implementation could rapresent an advantage but the limitations of the model are important.\n",
    "\n",
    "The linear regression model is used when we have to manage quantitative data, but in the case where the dataset contain categorical data, we have to choose another model (logistic regression). Another bad side of the linear model is that it assume that our feature are for the most unrelated.\n",
    "The negative side effect of this is that we have the risk that our linear model will start adding the same information several times, falling to predict the effect of the combination.  "
   ],
   "cell_type": "markdown",
   "metadata": {}
  }
 ]
}