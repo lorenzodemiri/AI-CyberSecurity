{
 "metadata": {
  "language_info": {
   "codemirror_mode": {
    "name": "ipython",
    "version": 3
   },
   "file_extension": ".py",
   "mimetype": "text/x-python",
   "name": "python",
   "nbconvert_exporter": "python",
   "pygments_lexer": "ipython3",
   "version": "3.8.5-final"
  },
  "orig_nbformat": 2,
  "kernelspec": {
   "name": "python3",
   "display_name": "Python 3",
   "language": "python"
  }
 },
 "nbformat": 4,
 "nbformat_minor": 2,
 "cells": [
  {
   "source": [
    "# Phishing detection with logistic regression and decision trees\n",
    "\n",
    "Before introducing our new project let's have a look to the algorithms used for our software in more details.\n",
    "\n",
    "## Regression models\n",
    "\n",
    "Regression models are the most used of all the learnign algorithms. From the statistical analysis world, regression models have quicly spread in ML and in AI in general.The most known of the models is **Linear Regression** thanks to the simplicity of the implementation and that it can be applied in many cases like: (Estimate the house prices in relation to the variation of the interest rates)\n",
    "\n",
    "Another model, is the **Logistic Regression Model** useful in the most complex cases where the linear model can't fit the datasets.\n",
    "\n",
    "### Linear Regression\n",
    "\n",
    "Linear regression is characterized by the fact that the data is represented as sums of features, that gives us a straight line in the Cartesian Plane, described by the following formula.\n",
    "$$ y = wX + \\beta$$\n",
    "\n",
    "Here on the formula we have the y that rapresent the predicted values, which are the results of the linear combination ($X$) to wich a weight vector is applied ($w$), and then $\\beta$ wich stands for the default value when the other 2 are 0. This model can be extendet can to n-dimension (for more features), at this point the formula can generalized and instead of a line we define a hyperplane that divede our hyperspace to classify our data. \n",
    "\n",
    "Let's have a look on how to implement Linear Regression\n",
    "\n",
    "## Linear regression with scikit-learn\n",
    "To check how this model works and how to implement in details have a look to the documentation [Here](https://scikit-learn.org/stable/modules/generated/sklearn.linear_model.LinearRegression.html?highlight=linear%20regression#sklearn.linear_model.LinearRegression)\n"
   ],
   "cell_type": "markdown",
   "metadata": {}
  },
  {
   "cell_type": "code",
   "execution_count": null,
   "metadata": {},
   "outputs": [],
   "source": [
    "import pandas as pd\n",
    "import numpy as np \n",
    "#Read our dataset\n",
    "df = pd.read_csv('./resources/datasets/spam/smsSpamPerceptron.csv')\n",
    "#Define our X and Y\n",
    "X = df.iloc[:, [2, 3]].values\n",
    "y = df.iloc[:, 1].values\n",
    "y = np.where(y == 'spam', -1, 1)\n",
    "#implement the linear regression model from scikit-learn\n",
    "from sklearn.linear_model import LinearRegression\n",
    "linear_regression = LinearRegression()\n",
    "linear_regression.fit(X, y)\n",
    "print(linear_regression.score(X,y))"
   ]
  },
  {
   "source": [],
   "cell_type": "markdown",
   "metadata": {}
  },
  {
   "source": [
    "## Pros and cons of Linear regression\n",
    "\n",
    "The simplicity of the implementation could rapresent an advantage but the limitations of the model are important.\n",
    "\n",
    "The linear regression model is used when we have to manage quantitative data, but in the case where the dataset contain categorical data, we have to choose another model (logistic regression). Another bad side of the linear model is that it assume that our feature are for the most unrelated.\n",
    "The negative side effect of this is that we have the risk that our linear model will start adding the same information several times, falling to predict the effect of the combination of the the variables on the final result.\n",
    "\n",
    "## Logistic regression\n",
    "\n",
    "The difference betwenn the logistic regression and the linear one is that, we have seen it before, we can't use the linear to solve classifications problems.\n",
    "Perceptron as a linear model does not give us good results in term of accurancy classification and the main reason for that is cause linear regression works better with continuos interval of values compared to classes of discrete values.\n",
    "But we have a solution for that logistic regression consist of estimating the probability of a sample to belong to an individual class. Let's see some boring math formula and try to explain those. \n",
    "\n",
    "$$ P(y = c|x) = e^z / (1 + e^z) $$\n",
    "\n",
    "Here the $ z = \\sum w_{i}x_{i} ,$ the $ P(y = c|x) $ measure the conditional probability that a given sample falls into the $c$ class, given the $x_{i} features.\n",
    "\n",
    "After all this boring theory let's write some code.\n",
    "\n",
    "## Phishing detector using logistic regression\n",
    "We are going to use this [dataset](https://archive.ics.uci.edu/ml/datasets/Phishing+Websites)\n",
    "This dataset has been converted from .arff to .csv using **one-hot-encoding**\n",
    "and consist of a dataset containing 30 features that characterize Phishing Websites.\n",
    "\n"
   ],
   "cell_type": "markdown",
   "metadata": {}
  },
  {
   "cell_type": "code",
   "execution_count": 6,
   "metadata": {},
   "outputs": [],
   "source": [
    "import pandas as pd\n",
    "import numpy as numpy\n",
    "from sklearn.linear_model import LogisticRegression\n",
    "from sklearn.metrics import accuracy_score\n",
    "#importing the dataframe\n",
    "phishing_df = pd.read_csv(\"./resources/datasets/phishing/phishing_dataset.csv\", header= None)\n"
   ]
  },
  {
   "cell_type": "code",
   "execution_count": 9,
   "metadata": {},
   "outputs": [
    {
     "output_type": "stream",
     "name": "stdout",
     "text": [
      "Logistic Regression accuracy : 92.61939218523878 %\n"
     ]
    }
   ],
   "source": [
    "#Define our features and targets values\n",
    "X = phishing_df.iloc[:,:-1]\n",
    "y = phishing_df.iloc[:,-1]\n",
    "#use train_test_split to split your data in training and testing sets\n",
    "from sklearn.model_selection import train_test_split\n",
    "X_train, X_test, y_train, y_test = train_test_split(X,y, test_size=1/2, random_state=0)\n",
    "#Initialize the Regressor \n",
    "Lgr = LogisticRegression()\n",
    "#Fit the model with the Training values\n",
    "Lgr.fit(X_train, y_train)\n",
    "#Predict values\n",
    "y_pred = Lgr.predict(X_test)\n",
    "\n",
    "print(\"Logistic Regression accuracy :\", accuracy_score(y_test, y_pred)*100, \"%\")"
   ]
  },
  {
   "source": [
    "We've got a pretty good score as the the Logistic Regressor is able to detect the 90% of the phishing URLs"
   ],
   "cell_type": "markdown",
   "metadata": {}
  },
  {
   "cell_type": "code",
   "execution_count": null,
   "metadata": {},
   "outputs": [],
   "source": []
  }
 ]
}