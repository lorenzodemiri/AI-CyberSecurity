{
 "metadata": {
  "language_info": {
   "codemirror_mode": {
    "name": "ipython",
    "version": 3
   },
   "file_extension": ".py",
   "mimetype": "text/x-python",
   "name": "python",
   "nbconvert_exporter": "python",
   "pygments_lexer": "ipython3",
   "version": 3
  },
  "orig_nbformat": 2
 },
 "nbformat": 4,
 "nbformat_minor": 2,
 "cells": [
  {
   "source": [
    "# Phishing detection with logistic regression and decision trees\n",
    "\n",
    "Before introducing our new project let's have a look to the algorithms used for our software in more details.\n",
    "\n",
    "## Regression models\n",
    "\n",
    "Regression models are the most used of all the learnign algorithms. From the statistical analysis world, regression models have quicly spread in ML and in AI in general.The most known of the models is **Linear Regression** thanks to the simplicity of the implementation and that it can be applied in many cases like: (Estimate the house prices in relation to the variation of the interest rates)\n",
    "\n",
    "Another model, is the **Logistic Regression Model** useful in the most complex cases where the linear model can't fit the datasets.\n",
    "\n",
    "### Linear Regression\n",
    "\n",
    "Linear regression is characterized by the fact that the data is represented as sums of features, that gives us a straight line in the Cartesian Plane, described by the following formula.\n",
    "$$ y = wX + \\beta$$\n",
    "\n"
   ],
   "cell_type": "markdown",
   "metadata": {}
  }
 ]
}